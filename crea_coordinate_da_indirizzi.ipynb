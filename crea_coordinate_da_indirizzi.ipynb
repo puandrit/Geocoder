{
  "nbformat": 4,
  "nbformat_minor": 0,
  "metadata": {
    "colab": {
      "provenance": []
    },
    "kernelspec": {
      "name": "python3",
      "display_name": "Python 3"
    },
    "language_info": {
      "name": "python"
    }
  },
  "cells": [
    {
      "cell_type": "markdown",
      "source": [
        "# Crea coordinate da indirizzi\n",
        "\n",
        "Carica il file excel alla tua sinistra, cliccando sull'icona dell cartella (ultima in basso).\n",
        "Verrà preso in considerazione il foglio1 (qualsiasi nome va bene), e lette le colonne 'Indirizzo','Località' e 'Provincia'. La prima lettera è maiuscola"
      ],
      "metadata": {
        "id": "IZWig5mYU-a7"
      }
    },
    {
      "source": [
        "import pandas as pd\n",
        "from geopy.geocoders import Nominatim\n",
        "from geopy.exc import GeocoderUnavailable # Import the GeocoderUnavailable exception\n",
        "import time\n",
        "\n",
        "# Carica il file Excel\n",
        "file_path = 'SARA Verifica LTE.xlsx'\n",
        "df = pd.read_excel(file_path, engine='openpyxl')\n",
        "\n",
        "# Elimina la prima riga\n",
        "# df = df.iloc[1:]\n",
        "\n",
        "# Inizializza il geolocator\n",
        "geolocator = Nominatim(user_agent=\"MyGeocodingApp/1.0 (myemail@example.com)\")\n",
        "\n",
        "# Funzione per ottenere le coordinate dall'indirizzo\n",
        "def get_coordinates(address):\n",
        "        # Introduce a delay to respect Nominatim's usage policy\n",
        "  time.sleep(1)\n",
        "  try:\n",
        "      location = geolocator.geocode(address)\n",
        "      if location:\n",
        "          return location.latitude, location.longitude\n",
        "      else:\n",
        "          return None, None\n",
        "\n",
        "  except GeocoderUnavailable as e:\n",
        "      print(f\"Error: {e}. Skipping address: {address}\")\n",
        "      return None, None\n",
        "\n",
        "# Crea nuove colonne per latitudine e longitudine\n",
        "df[['latitudine', 'longitudine']] = df.apply(lambda row: pd.Series(get_coordinates(f\"{row['Indirizzo']}, {row['Località']}, {row['Provincia']}\"), index=['latitudine', 'longitudine']), axis=1)\n",
        "#The above line applies the get_coordinates function to each row of the DataFrame\n",
        "#It then creates a pandas Series with the latitude and longitude values\n",
        "#Finally, it assigns this Series to the new columns 'latitudine' and 'longitudine' in the DataFrame\n",
        "\n",
        "\n",
        "# Salva il DataFrame aggiornato in un nuovo file Excel\n",
        "df.to_excel('SARA Verifica LTE with coordinates.xlsx', index=False)\n",
        "\n",
        "print(\"Le nuove colonne con le coordinate geografiche sono state aggiunte e salvate nel file 'Verifica LTE with coordinates.xlsx'.\")"
      ],
      "cell_type": "code",
      "metadata": {
        "id": "khRIlLyKT4CY",
        "colab": {
          "base_uri": "https://localhost:8080/"
        },
        "outputId": "a833c15c-3bf4-4c30-955e-6558c867aad7"
      },
      "execution_count": null,
      "outputs": [
        {
          "output_type": "stream",
          "name": "stderr",
          "text": [
            "WARNING:urllib3.connectionpool:Retrying (Retry(total=1, connect=None, read=None, redirect=None, status=None)) after connection broken by 'ReadTimeoutError(\"HTTPSConnectionPool(host='nominatim.openstreetmap.org', port=443): Read timed out. (read timeout=1)\")': /search?q=VIA+CESARE+BATTISTI%2C+52%2FC%2C+GAZZANIGA%2C+BG&format=json&limit=1\n",
            "WARNING:urllib3.connectionpool:Retrying (Retry(total=0, connect=None, read=None, redirect=None, status=None)) after connection broken by 'ReadTimeoutError(\"HTTPSConnectionPool(host='nominatim.openstreetmap.org', port=443): Read timed out. (read timeout=1)\")': /search?q=VIA+CESARE+BATTISTI%2C+52%2FC%2C+GAZZANIGA%2C+BG&format=json&limit=1\n"
          ]
        },
        {
          "output_type": "stream",
          "name": "stdout",
          "text": [
            "Error: HTTPSConnectionPool(host='nominatim.openstreetmap.org', port=443): Max retries exceeded with url: /search?q=VIA+CESARE+BATTISTI%2C+52%2FC%2C+GAZZANIGA%2C+BG&format=json&limit=1 (Caused by ReadTimeoutError(\"HTTPSConnectionPool(host='nominatim.openstreetmap.org', port=443): Read timed out. (read timeout=1)\")). Skipping address: VIA CESARE BATTISTI, 52/C, GAZZANIGA, BG\n",
            "Le nuove colonne con le coordinate geografiche sono state aggiunte e salvate nel file 'Verifica LTE with coordinates.xlsx'.\n"
          ]
        }
      ]
    }
  ]
}